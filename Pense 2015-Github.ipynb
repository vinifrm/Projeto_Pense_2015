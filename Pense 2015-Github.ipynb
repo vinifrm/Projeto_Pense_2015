{
 "cells": [
  {
   "cell_type": "markdown",
   "metadata": {
    "heading_collapsed": true
   },
   "source": [
    "# RESUMO"
   ]
  },
  {
   "cell_type": "markdown",
   "metadata": {
    "heading_collapsed": true,
    "hidden": true
   },
   "source": [
    "## Sobre a pesquisa Pense 2015"
   ]
  },
  {
   "cell_type": "markdown",
   "metadata": {
    "hidden": true
   },
   "source": [
    "A base de dados estudada nesse módulo é do IBGE, chamada Pense (Pesquisa Nacional da Saúde do Escolar). Podemos entender, através dela, a relação entre saúde e educação e como o ambiente de vivência do estudante pode influenciar na qualidade de seu desenvolvimento escolar e vice-versa.\n",
    "\n",
    "Essa pesquisa foi feita em 2009 e 2012 para alunos do 9° ano. Na edição de 2015, importantes inovações foram introduzidas na pesquisa, dentre as quais se destaca a disponibilização de informações oriundas de dois planos amostrais distintos: escolares frequentando o 9o ano do ensino fundamental e escolares de 13 a 17 anos de idade frequentando as etapas do 6o ao 9o ano do ensino fundamental (antigas 5a a 8a séries) e da 1a a 3a série do ensino médio."
   ]
  },
  {
   "cell_type": "markdown",
   "metadata": {
    "heading_collapsed": true,
    "hidden": true
   },
   "source": [
    "## Sobre a análise"
   ]
  },
  {
   "cell_type": "markdown",
   "metadata": {
    "hidden": true
   },
   "source": [
    "Será feita uma EDA (Exploratory Data Analysis) sobre a pesquisa Pense 2015.\n",
    "\n",
    "Inicialmente, essa análise será feita sobre algumas variáveis específicas, para conhecermos seus dados e suas distribuições, como peso, altura, IMC, sexo, raça e outras. \n",
    "\n",
    "A análise principal será voltada para o entendimento da relação entre idade, sexo e raça com o o IMC e a satisfação dos alunos com o corpo, verificando quais variáveis podem influenciar nesse item e como o próprio IMC pode influenciar nessa satisfação corporal."
   ]
  },
  {
   "cell_type": "markdown",
   "metadata": {
    "heading_collapsed": true,
    "hidden": true
   },
   "source": [
    "## Links e fontes"
   ]
  },
  {
   "cell_type": "markdown",
   "metadata": {
    "hidden": true
   },
   "source": [
    "* Link da pesquisa: https://www.ibge.gov.br/estatisticas/sociais/educacao/9134-pesquisa-nacional-de-saude-do-escolar.html?=&t=o-que-e\n",
    "* Link do dataset: https://www.ibge.gov.br/estatisticas/sociais/educacao/9134-pesquisa-nacional-de-saude-do-escolar.html?=&t=microdados\n",
    "* Especificações de tabelas e indicadores Amostra2 : https://ftp.ibge.gov.br/pense/2015/microdados/Notas_Metodologicas/Nota_metodologica_03_especificacao_tabelas_Amostra_2_20180514.pdf"
   ]
  },
  {
   "cell_type": "markdown",
   "metadata": {},
   "source": [
    "# IMPORTS, DADOS E FUNÇÕES AUXILIARES"
   ]
  },
  {
   "cell_type": "markdown",
   "metadata": {},
   "source": [
    "## Imports de bibliotecas"
   ]
  },
  {
   "cell_type": "code",
   "execution_count": 1,
   "metadata": {},
   "outputs": [],
   "source": [
    "import pandas as pd\n",
    "import numpy as np\n",
    "import matplotlib.pyplot as plt\n",
    "import seaborn as sns\n",
    "import plotly.express as px\n",
    "import plotly.graph_objects as go\n",
    "from plotly.subplots import make_subplots\n",
    "from plotly.offline import plot\n",
    "from scipy.stats import norm\n",
    "import datetime\n",
    "from datetime import date\n",
    "import warnings\n",
    "warnings.filterwarnings('ignore')\n",
    "from IPython.display import Image, HTML\n",
    "\n",
    "import plotly.io as pio\n",
    "pio.renderers\n",
    "\n",
    "pio.renderers.default = \"svg\""
   ]
  },
  {
   "cell_type": "markdown",
   "metadata": {},
   "source": [
    "## Carregamento dos dados"
   ]
  },
  {
   "cell_type": "code",
   "execution_count": 2,
   "metadata": {},
   "outputs": [],
   "source": [
    "dados = pd.read_csv('dados/PENSE_AMOSTRA2_ALUNO.CSV', sep = ';', thousands = '.', decimal = ',')"
   ]
  },
  {
   "cell_type": "code",
   "execution_count": 3,
   "metadata": {},
   "outputs": [
    {
     "data": {
      "text/html": [
       "<div>\n",
       "<style scoped>\n",
       "    .dataframe tbody tr th:only-of-type {\n",
       "        vertical-align: middle;\n",
       "    }\n",
       "\n",
       "    .dataframe tbody tr th {\n",
       "        vertical-align: top;\n",
       "    }\n",
       "\n",
       "    .dataframe thead th {\n",
       "        text-align: right;\n",
       "    }\n",
       "</style>\n",
       "<table border=\"1\" class=\"dataframe\">\n",
       "  <thead>\n",
       "    <tr style=\"text-align: right;\">\n",
       "      <th></th>\n",
       "      <th>ANOPESQ</th>\n",
       "      <th>PAIS</th>\n",
       "      <th>REGEOGR</th>\n",
       "      <th>VB00004</th>\n",
       "      <th>VB01001</th>\n",
       "      <th>VB01002</th>\n",
       "      <th>VB01003</th>\n",
       "      <th>VB01004</th>\n",
       "      <th>VB01005</th>\n",
       "      <th>VB01006</th>\n",
       "      <th>...</th>\n",
       "      <th>ESTRATO_EXP</th>\n",
       "      <th>ESTRATOGEOREG</th>\n",
       "      <th>PESO</th>\n",
       "      <th>V0006</th>\n",
       "      <th>V0007</th>\n",
       "      <th>V0008</th>\n",
       "      <th>V0041</th>\n",
       "      <th>aluno</th>\n",
       "      <th>escola</th>\n",
       "      <th>turma</th>\n",
       "    </tr>\n",
       "  </thead>\n",
       "  <tbody>\n",
       "    <tr>\n",
       "      <th>15276</th>\n",
       "      <td>2015</td>\n",
       "      <td>76</td>\n",
       "      <td>5</td>\n",
       "      <td>1</td>\n",
       "      <td>2</td>\n",
       "      <td>4</td>\n",
       "      <td>11</td>\n",
       "      <td>8</td>\n",
       "      <td>9</td>\n",
       "      <td>1</td>\n",
       "      <td>...</td>\n",
       "      <td>5121</td>\n",
       "      <td>5</td>\n",
       "      <td>169.245582</td>\n",
       "      <td>1</td>\n",
       "      <td>1</td>\n",
       "      <td>2</td>\n",
       "      <td>-1</td>\n",
       "      <td>15277</td>\n",
       "      <td>347</td>\n",
       "      <td>39</td>\n",
       "    </tr>\n",
       "    <tr>\n",
       "      <th>110</th>\n",
       "      <td>2015</td>\n",
       "      <td>76</td>\n",
       "      <td>1</td>\n",
       "      <td>1</td>\n",
       "      <td>2</td>\n",
       "      <td>4</td>\n",
       "      <td>13</td>\n",
       "      <td>10</td>\n",
       "      <td>7</td>\n",
       "      <td>1</td>\n",
       "      <td>...</td>\n",
       "      <td>1221</td>\n",
       "      <td>1</td>\n",
       "      <td>86.718961</td>\n",
       "      <td>1</td>\n",
       "      <td>2</td>\n",
       "      <td>4</td>\n",
       "      <td>1</td>\n",
       "      <td>111</td>\n",
       "      <td>2</td>\n",
       "      <td>278</td>\n",
       "    </tr>\n",
       "    <tr>\n",
       "      <th>4341</th>\n",
       "      <td>2015</td>\n",
       "      <td>76</td>\n",
       "      <td>2</td>\n",
       "      <td>1</td>\n",
       "      <td>2</td>\n",
       "      <td>1</td>\n",
       "      <td>11</td>\n",
       "      <td>2</td>\n",
       "      <td>10</td>\n",
       "      <td>2</td>\n",
       "      <td>...</td>\n",
       "      <td>2213</td>\n",
       "      <td>2</td>\n",
       "      <td>585.887643</td>\n",
       "      <td>1</td>\n",
       "      <td>2</td>\n",
       "      <td>4</td>\n",
       "      <td>1</td>\n",
       "      <td>4342</td>\n",
       "      <td>102</td>\n",
       "      <td>108</td>\n",
       "    </tr>\n",
       "    <tr>\n",
       "      <th>6037</th>\n",
       "      <td>2015</td>\n",
       "      <td>76</td>\n",
       "      <td>2</td>\n",
       "      <td>1</td>\n",
       "      <td>1</td>\n",
       "      <td>5</td>\n",
       "      <td>12</td>\n",
       "      <td>4</td>\n",
       "      <td>9</td>\n",
       "      <td>1</td>\n",
       "      <td>...</td>\n",
       "      <td>2123</td>\n",
       "      <td>2</td>\n",
       "      <td>1085.028190</td>\n",
       "      <td>1</td>\n",
       "      <td>1</td>\n",
       "      <td>2</td>\n",
       "      <td>-1</td>\n",
       "      <td>6038</td>\n",
       "      <td>137</td>\n",
       "      <td>54</td>\n",
       "    </tr>\n",
       "    <tr>\n",
       "      <th>4430</th>\n",
       "      <td>2015</td>\n",
       "      <td>76</td>\n",
       "      <td>2</td>\n",
       "      <td>1</td>\n",
       "      <td>1</td>\n",
       "      <td>4</td>\n",
       "      <td>14</td>\n",
       "      <td>10</td>\n",
       "      <td>6</td>\n",
       "      <td>1</td>\n",
       "      <td>...</td>\n",
       "      <td>2122</td>\n",
       "      <td>2</td>\n",
       "      <td>1447.532105</td>\n",
       "      <td>1</td>\n",
       "      <td>1</td>\n",
       "      <td>1</td>\n",
       "      <td>-1</td>\n",
       "      <td>4431</td>\n",
       "      <td>104</td>\n",
       "      <td>60</td>\n",
       "    </tr>\n",
       "  </tbody>\n",
       "</table>\n",
       "<p>5 rows × 181 columns</p>\n",
       "</div>"
      ],
      "text/plain": [
       "       ANOPESQ  PAIS  REGEOGR  VB00004  VB01001  VB01002  VB01003  VB01004  \\\n",
       "15276     2015    76        5        1        2        4       11        8   \n",
       "110       2015    76        1        1        2        4       13       10   \n",
       "4341      2015    76        2        1        2        1       11        2   \n",
       "6037      2015    76        2        1        1        5       12        4   \n",
       "4430      2015    76        2        1        1        4       14       10   \n",
       "\n",
       "       VB01005  VB01006  ...  ESTRATO_EXP  ESTRATOGEOREG         PESO  V0006  \\\n",
       "15276        9        1  ...         5121              5   169.245582      1   \n",
       "110          7        1  ...         1221              1    86.718961      1   \n",
       "4341        10        2  ...         2213              2   585.887643      1   \n",
       "6037         9        1  ...         2123              2  1085.028190      1   \n",
       "4430         6        1  ...         2122              2  1447.532105      1   \n",
       "\n",
       "       V0007  V0008  V0041  aluno  escola  turma  \n",
       "15276      1      2     -1  15277     347     39  \n",
       "110        2      4      1    111       2    278  \n",
       "4341       2      4      1   4342     102    108  \n",
       "6037       1      2     -1   6038     137     54  \n",
       "4430       1      1     -1   4431     104     60  \n",
       "\n",
       "[5 rows x 181 columns]"
      ]
     },
     "execution_count": 3,
     "metadata": {},
     "output_type": "execute_result"
    }
   ],
   "source": [
    "dados.sample(5)"
   ]
  },
  {
   "cell_type": "markdown",
   "metadata": {
    "heading_collapsed": true
   },
   "source": [
    "## Funções auxiliares"
   ]
  },
  {
   "cell_type": "markdown",
   "metadata": {
    "heading_collapsed": true,
    "hidden": true
   },
   "source": [
    "### Formatação de floats"
   ]
  },
  {
   "cell_type": "code",
   "execution_count": 4,
   "metadata": {
    "hidden": true
   },
   "outputs": [],
   "source": [
    "def formata_float_df(df):\n",
    "    for i in range(0, len(df.values)):\n",
    "        df.values[i] = \"%.2f\" % df.values[i]\n",
    "        df.values[i] = float(df.values[i])"
   ]
  },
  {
   "cell_type": "markdown",
   "metadata": {
    "heading_collapsed": true
   },
   "source": [
    "# DESCRIÇÃO DOS DADOS"
   ]
  },
  {
   "cell_type": "markdown",
   "metadata": {
    "hidden": true
   },
   "source": [
    "### Tamanho do dataset"
   ]
  },
  {
   "cell_type": "code",
   "execution_count": 5,
   "metadata": {
    "hidden": true
   },
   "outputs": [
    {
     "name": "stdout",
     "output_type": "stream",
     "text": [
      "Número de linhas do dataset: 16556\n",
      "Número de colunas do dataset: 181\n"
     ]
    }
   ],
   "source": [
    "print(f'Número de linhas do dataset: {dados.shape[0]}')\n",
    "print(f'Número de colunas do dataset: {dados.shape[1]}')"
   ]
  },
  {
   "cell_type": "markdown",
   "metadata": {
    "hidden": true
   },
   "source": [
    "### Tipos de dados"
   ]
  },
  {
   "cell_type": "code",
   "execution_count": 6,
   "metadata": {
    "hidden": true
   },
   "outputs": [
    {
     "name": "stdout",
     "output_type": "stream",
     "text": [
      "<class 'pandas.core.frame.DataFrame'>\n",
      "RangeIndex: 16556 entries, 0 to 16555\n",
      "Columns: 181 entries, ANOPESQ to turma\n",
      "dtypes: float64(10), int64(171)\n",
      "memory usage: 22.9 MB\n"
     ]
    }
   ],
   "source": [
    "dados.info()"
   ]
  },
  {
   "cell_type": "markdown",
   "metadata": {},
   "source": [
    "# ESTATÍSTICA DESCRITIVA"
   ]
  },
  {
   "cell_type": "markdown",
   "metadata": {},
   "source": [
    "### Raça"
   ]
  },
  {
   "cell_type": "markdown",
   "metadata": {},
   "source": [
    "#### Número de respondentes de acordo com a raça"
   ]
  },
  {
   "cell_type": "code",
   "execution_count": 7,
   "metadata": {},
   "outputs": [
    {
     "data": {
      "text/html": [
       "<div>\n",
       "<style scoped>\n",
       "    .dataframe tbody tr th:only-of-type {\n",
       "        vertical-align: middle;\n",
       "    }\n",
       "\n",
       "    .dataframe tbody tr th {\n",
       "        vertical-align: top;\n",
       "    }\n",
       "\n",
       "    .dataframe thead th {\n",
       "        text-align: right;\n",
       "    }\n",
       "</style>\n",
       "<table border=\"1\" class=\"dataframe\">\n",
       "  <thead>\n",
       "    <tr style=\"text-align: right;\">\n",
       "      <th></th>\n",
       "      <th>Nº de respondentes</th>\n",
       "    </tr>\n",
       "    <tr>\n",
       "      <th>Raça</th>\n",
       "      <th></th>\n",
       "    </tr>\n",
       "  </thead>\n",
       "  <tbody>\n",
       "    <tr>\n",
       "      <th>Branca</th>\n",
       "      <td>6575</td>\n",
       "    </tr>\n",
       "    <tr>\n",
       "      <th>Preta</th>\n",
       "      <td>1939</td>\n",
       "    </tr>\n",
       "    <tr>\n",
       "      <th>Amarela</th>\n",
       "      <td>712</td>\n",
       "    </tr>\n",
       "    <tr>\n",
       "      <th>Parda</th>\n",
       "      <td>6726</td>\n",
       "    </tr>\n",
       "    <tr>\n",
       "      <th>Indígena</th>\n",
       "      <td>581</td>\n",
       "    </tr>\n",
       "    <tr>\n",
       "      <th>Não informado</th>\n",
       "      <td>23</td>\n",
       "    </tr>\n",
       "  </tbody>\n",
       "</table>\n",
       "</div>"
      ],
      "text/plain": [
       "               Nº de respondentes\n",
       "Raça                             \n",
       "Branca                       6575\n",
       "Preta                        1939\n",
       "Amarela                       712\n",
       "Parda                        6726\n",
       "Indígena                      581\n",
       "Não informado                  23"
      ]
     },
     "execution_count": 7,
     "metadata": {},
     "output_type": "execute_result"
    }
   ],
   "source": [
    "# lista com as labels\n",
    "raca = ['Branca', 'Preta', 'Amarela', 'Parda', 'Indígena', 'Não informado']\n",
    "\n",
    "# criando o dataframe que contem o número de respondentes sobre a raça\n",
    "raca_abs = pd.DataFrame(dados['VB01002'].value_counts().sort_index())\n",
    "raca_abs.index = raca\n",
    "raca_abs.index.name = 'Raça'\n",
    "raca_abs.columns = ['Nº de respondentes']\n",
    "\n",
    "raca_abs"
   ]
  },
  {
   "cell_type": "code",
   "execution_count": null,
   "metadata": {},
   "outputs": [],
   "source": [
    "fig = px.bar(data_frame = raca_abs, x = raca_abs.index, y = 'Nº de respondentes',\n",
    "               color = raca_abs.index, color_discrete_sequence=px.colors.qualitative.Dark2,\n",
    "               title = 'Número de respondentes, de acordo com a raça')\n",
    "fig.update_layout(font_family=\"Rockwell\", legend=dict(\n",
    "                  title=None, orientation=\"h\", y=1, yanchor=\"bottom\", x=0.5, xanchor=\"center\"))\n",
    "fig.show()\n"
   ]
  },
  {
   "cell_type": "markdown",
   "metadata": {},
   "source": [
    "#### Porcentagens de respondentes de acordo com a raça"
   ]
  },
  {
   "cell_type": "code",
   "execution_count": null,
   "metadata": {},
   "outputs": [],
   "source": [
    "fig = px.pie(raca_abs,\n",
    "             values='Nº de respondentes',\n",
    "             names= raca_abs.index,\n",
    "             labels = raca_abs.index,\n",
    "             title='Números e porcentagens de respondentes de acordo com a raça')\n",
    "fig.show()"
   ]
  },
  {
   "cell_type": "markdown",
   "metadata": {},
   "source": [
    "### Sexo"
   ]
  },
  {
   "cell_type": "markdown",
   "metadata": {},
   "source": [
    "#### Número de respondentes de acordo com o sexo"
   ]
  },
  {
   "cell_type": "code",
   "execution_count": null,
   "metadata": {},
   "outputs": [],
   "source": [
    "# criação do dataframe\n",
    "resp_por_sexo = pd.DataFrame(dados['VB01001'].value_counts())\n",
    "resp_por_sexo.index = ['Masculino', 'Feminino']\n",
    "resp_por_sexo.index.name = 'Sexo'\n",
    "resp_por_sexo.columns = ['Número de respondentes']\n",
    "resp_por_sexo"
   ]
  },
  {
   "cell_type": "code",
   "execution_count": null,
   "metadata": {},
   "outputs": [],
   "source": [
    "fig = px.bar(data_frame = resp_por_sexo, x = resp_por_sexo.index, y = 'Número de respondentes',\n",
    "               color = resp_por_sexo.index, color_discrete_sequence=px.colors.qualitative.Dark2,\n",
    "               title = 'Número de respondentes, de acordo com o sexo')\n",
    "fig.update_layout(font_family=\"Rockwell\", legend=dict(\n",
    "                  title=None, orientation=\"h\", y=1, yanchor=\"bottom\", x=0.5, xanchor=\"center\"))\n",
    "fig.show()\n"
   ]
  },
  {
   "cell_type": "markdown",
   "metadata": {},
   "source": [
    "A quantidade de alunos, respondentes da pesquisa, de cada sexo foi extremamente equilibrada."
   ]
  },
  {
   "cell_type": "markdown",
   "metadata": {},
   "source": [
    "#### Porcentagens de respondentes de acordo com o sexo"
   ]
  },
  {
   "cell_type": "code",
   "execution_count": null,
   "metadata": {},
   "outputs": [],
   "source": [
    "fig = px.pie(resp_por_sexo, values = 'Número de respondentes', names = resp_por_sexo.index,\n",
    "             labels = resp_por_sexo.index, title = 'Porcentagem de respondentes por sexo')\n",
    "fig.show()"
   ]
  },
  {
   "cell_type": "markdown",
   "metadata": {},
   "source": [
    "### Peso"
   ]
  },
  {
   "cell_type": "markdown",
   "metadata": {},
   "source": [
    "#### Estatísticas dos <ins>pesos</ins>"
   ]
  },
  {
   "cell_type": "markdown",
   "metadata": {},
   "source": [
    "Média"
   ]
  },
  {
   "cell_type": "code",
   "execution_count": null,
   "metadata": {},
   "outputs": [],
   "source": [
    "media_pesos = dados['VB17003'].mean()\n",
    "print(f'Média dos pesos dos alunos: {media_pesos}')"
   ]
  },
  {
   "cell_type": "markdown",
   "metadata": {},
   "source": [
    "Mediana"
   ]
  },
  {
   "cell_type": "code",
   "execution_count": null,
   "metadata": {},
   "outputs": [],
   "source": [
    "mediana_pesos = dados['VB17003'].median()\n",
    "print(f'Média dos pesos dos alunos: {mediana_pesos}')"
   ]
  },
  {
   "cell_type": "markdown",
   "metadata": {},
   "source": [
    "Moda"
   ]
  },
  {
   "cell_type": "code",
   "execution_count": null,
   "metadata": {},
   "outputs": [],
   "source": [
    "moda_pesos = dados['VB17003'].mode()[0]\n",
    "print(f'Moda dos pesos dos alunos: {moda_pesos}') "
   ]
  },
  {
   "cell_type": "markdown",
   "metadata": {},
   "source": [
    "Desvio Padrão"
   ]
  },
  {
   "cell_type": "code",
   "execution_count": null,
   "metadata": {},
   "outputs": [],
   "source": [
    "desvio_padrao_pesos = dados['VB17003'].std()\n",
    "print(f'Média dos pesos dos alunos: {desvio_padrao_pesos}')"
   ]
  },
  {
   "cell_type": "markdown",
   "metadata": {},
   "source": [
    "#### Estatísticas dos <ins>pesos</ins> X <ins>classe de idade</ins>"
   ]
  },
  {
   "cell_type": "markdown",
   "metadata": {},
   "source": [
    "Criando a coluna CLASSE_IDADE "
   ]
  },
  {
   "cell_type": "code",
   "execution_count": null,
   "metadata": {
    "code_folding": [
     0
    ]
   },
   "outputs": [],
   "source": [
    "dados['CLASSE_IDADE'] = pd.cut(x = dados['VB01003'],\n",
    "                               bins = np.histogram_bin_edges(dados['VB01003'], bins = 4),\n",
    "                               include_lowest=True)\n",
    "dados['CLASSE_IDADE'] = dados['CLASSE_IDADE'].astype(str)"
   ]
  },
  {
   "cell_type": "code",
   "execution_count": null,
   "metadata": {},
   "outputs": [],
   "source": [
    "dados['CLASSE_IDADE'] = dados['CLASSE_IDADE'].astype(str)"
   ]
  },
  {
   "cell_type": "markdown",
   "metadata": {},
   "source": [
    "Média dos pesos por classe de idade"
   ]
  },
  {
   "cell_type": "code",
   "execution_count": null,
   "metadata": {},
   "outputs": [],
   "source": [
    "media_peso_classes_idades = pd.DataFrame(dados.groupby('CLASSE_IDADE')['VB17003'].mean())\n",
    "media_peso_classes_idades.columns = ['Média dos pesos']\n",
    "media_peso_classes_idades.index.name = 'Classes das Idades'\n",
    "\n",
    "formata_float_df(media_peso_classes_idades)\n",
    "media_peso_classes_idades"
   ]
  },
  {
   "cell_type": "markdown",
   "metadata": {},
   "source": [
    "Mediana dos pesos por classe de idade"
   ]
  },
  {
   "cell_type": "code",
   "execution_count": null,
   "metadata": {},
   "outputs": [],
   "source": [
    "mediana_pesos_por_classe_idade = pd.DataFrame(dados.groupby('CLASSE_IDADE')['VB17003'].median())\n",
    "mediana_pesos_por_classe_idade.columns = ['Mediana dos pesos']\n",
    "mediana_pesos_por_classe_idade.index.name = 'Classes das Idades'\n",
    "\n",
    "mediana_pesos_por_classe_idade"
   ]
  },
  {
   "cell_type": "markdown",
   "metadata": {},
   "source": [
    "Moda dos pesos por classe de idade"
   ]
  },
  {
   "cell_type": "code",
   "execution_count": null,
   "metadata": {},
   "outputs": [],
   "source": [
    "lista_valores_classe_idade = dados['CLASSE_IDADE'].unique()\n",
    "len_valores_classe_idade = len(lista_valores_classe_idade)\n",
    "lista = []\n",
    "for i in range(0, len_valores_classe_idade):\n",
    "    lista.append(dados['VB17003'][dados['CLASSE_IDADE'] == lista_valores_classe_idade[i]].mode()[0])\n",
    "modas_classe_idade = pd.DataFrame({'Moda': lista}, index = lista_valores_classe_idade)\n",
    "modas_classe_idade.index.name = 'Classes das idades'\n",
    "modas_classe_idade"
   ]
  },
  {
   "cell_type": "markdown",
   "metadata": {},
   "source": [
    "Desvio padrão dos pesos por classe de idade"
   ]
  },
  {
   "cell_type": "code",
   "execution_count": null,
   "metadata": {},
   "outputs": [],
   "source": [
    "desvios_padrao_pesos_por_classe_idade = pd.DataFrame(dados.groupby('CLASSE_IDADE')['VB17003'].std())\n",
    "desvios_padrao_pesos_por_classe_idade.columns = ['Desvio padrão dos pesos']\n",
    "desvios_padrao_pesos_por_classe_idade.index.name = 'Classes das idades'\n",
    "desvios_padrao_pesos_por_classe_idade"
   ]
  },
  {
   "cell_type": "markdown",
   "metadata": {},
   "source": [
    "#### Estatísticas dos <ins>pesos</ins> X <ins>sexo e classe de idade</ins>"
   ]
  },
  {
   "cell_type": "markdown",
   "metadata": {},
   "source": [
    "Média dos pesos de acordo com o sexo e classe de idade"
   ]
  },
  {
   "cell_type": "code",
   "execution_count": null,
   "metadata": {},
   "outputs": [],
   "source": [
    "crosstab_media_peso_sexo_idade = pd.crosstab(index = dados['CLASSE_IDADE'],\n",
    "                                       columns=dados['VB01001'],\n",
    "                                       values = dados['VB17003'],\n",
    "                                       aggfunc='mean')\n",
    "\n",
    "crosstab_media_peso_sexo_idade.index.name = 'Classes das idades'\n",
    "crosstab_media_peso_sexo_idade.columns.name = ''\n",
    "crosstab_media_peso_sexo_idade.columns = ['Masculino', 'Feminino']\n",
    "print('Média dos pesos por classe de idade e sexo: ')\n",
    "crosstab_media_peso_sexo_idade"
   ]
  },
  {
   "cell_type": "markdown",
   "metadata": {},
   "source": [
    "Mediana dos pesos de acordo com o sexo e classe de idade"
   ]
  },
  {
   "cell_type": "code",
   "execution_count": null,
   "metadata": {},
   "outputs": [],
   "source": [
    "crosstab_mediana_peso_sexo_idade = pd.crosstab(index = dados['CLASSE_IDADE'],\n",
    "                                       columns=dados['VB01001'],\n",
    "                                       values = dados['VB17003'],\n",
    "                                       aggfunc='median')\n",
    "\n",
    "crosstab_mediana_peso_sexo_idade.index.name = 'Classes das idades'\n",
    "crosstab_mediana_peso_sexo_idade.columns.name = ''\n",
    "crosstab_mediana_peso_sexo_idade.columns = ['Masculino', 'Feminino']\n",
    "print('Mediana dos pesos por classe de idade e sexo: ')\n",
    "crosstab_mediana_peso_sexo_idade"
   ]
  },
  {
   "cell_type": "markdown",
   "metadata": {},
   "source": [
    "Moda dos pesos de acordo com o sexo e classe de idade"
   ]
  },
  {
   "cell_type": "code",
   "execution_count": null,
   "metadata": {},
   "outputs": [],
   "source": [
    "valores_classes_idade = dados['CLASSE_IDADE'].unique()\n",
    "valores_sexo = dados['VB01001'].sort_values().unique()\n",
    "lista_masculino = []\n",
    "lista_feminino = []\n",
    "\n",
    "for classe in valores_classes_idade:\n",
    "    for sexo in valores_sexo:\n",
    "        if sexo == 1:\n",
    "            lista_masculino.append(dados['VB17003'][(dados['VB01001'] == sexo) & (dados['CLASSE_IDADE'] == classe)].mode()[0])\n",
    "        elif sexo == 2:\n",
    "            lista_feminino.append(dados['VB17003'][(dados['VB01001'] == sexo) & (dados['CLASSE_IDADE'] == classe)].mode()[0])"
   ]
  },
  {
   "cell_type": "code",
   "execution_count": null,
   "metadata": {},
   "outputs": [],
   "source": [
    "df_moda_peso_sexo_idade = pd.DataFrame([lista_masculino, lista_feminino]).T\n",
    "df_moda_peso_sexo_idade.columns = ['Masculino', 'Feminino']\n",
    "df_moda_peso_sexo_idade.index = valores_classes_idade\n",
    "df_moda_peso_sexo_idade"
   ]
  },
  {
   "cell_type": "markdown",
   "metadata": {},
   "source": [
    "##### Desvios padrão dos pesos de acordo com o sexo e com a classe de idade"
   ]
  },
  {
   "cell_type": "code",
   "execution_count": null,
   "metadata": {},
   "outputs": [],
   "source": [
    "desvio_padrao_pesos_sexo_idade = pd.crosstab(index = dados['CLASSE_IDADE'],\n",
    "            columns = dados['VB01001'],\n",
    "            values = dados['VB17003'],\n",
    "            aggfunc='std')\n",
    "desvio_padrao_pesos_sexo_idade.columns = ['Masculino', 'Feminino']\n",
    "desvio_padrao_pesos_sexo_idade.index.name = 'Classes das idades'\n",
    "print('Desvios padrão dos pesos de acordo com o sexo e com a classe de idade:')\n",
    "desvio_padrao_pesos_sexo_idade"
   ]
  },
  {
   "cell_type": "markdown",
   "metadata": {},
   "source": [
    "#### Alguns gráficos"
   ]
  },
  {
   "cell_type": "markdown",
   "metadata": {},
   "source": [
    "##### Histograma - Distribuição geral dos pesos"
   ]
  },
  {
   "cell_type": "code",
   "execution_count": null,
   "metadata": {},
   "outputs": [],
   "source": [
    "ax = sns.histplot(data = dados, x = 'VB17003')\n",
    "ax.figure.set_size_inches((13, 6))\n",
    "ax.set_title('Distribuição dos pesos', fontsize = 22)\n",
    "ax.set_xlabel('Pesos', fontsize = 12)\n",
    "ax.set_ylabel('Quantidade de ocorrências', fontsize = 12)\n",
    "\n",
    "# linha com a média dos pesos\n",
    "ax.axvline(x = dados['VB17003'].mean(),\n",
    "           label = 'Média',\n",
    "           linewidth = 2,\n",
    "           color = '#000000')\n",
    "# linha com a mediana dos pesos\n",
    "ax.axvline(x = dados['VB17003'].median(),\n",
    "           label = 'Mediana',\n",
    "           linewidth = 2,\n",
    "           linestyle = '--',\n",
    "           color = '#7FFF00')\n",
    "#linha com a moda dos pesos\n",
    "ax.axvline(x = dados['VB17003'].mode().values,\n",
    "           label = 'Moda',\n",
    "           linewidth = 2,\n",
    "           linestyle = '-.',\n",
    "           color = '#FF1493')\n",
    "\n",
    "# intervalo de confiança da distribuição dos pesos\n",
    "xmin = media_pesos - desvio_padrao_pesos\n",
    "xmax = media_pesos + desvio_padrao_pesos\n",
    "# área do desvio padrão\n",
    "ax.axvspan(xmin, xmax, alpha=0.3, color='gray', label='Desvio Padrão')\n",
    "\n",
    "ax.legend(title = 'Medidas')\n",
    "ax;"
   ]
  },
  {
   "cell_type": "markdown",
   "metadata": {},
   "source": [
    "##### Boxplot - distribuição dos pesos de acordo com a classe de idade"
   ]
  },
  {
   "cell_type": "code",
   "execution_count": null,
   "metadata": {},
   "outputs": [],
   "source": [
    "ax = sns.boxplot(x = dados['CLASSE_IDADE'], y = dados['VB17003'], palette = 'winter_r')\n",
    "ax.figure.set_size_inches((13,6))\n",
    "ax.set_xlabel('Classe de idade', fontsize = 14)\n",
    "ax.set_ylabel('Peso', fontsize = 14)\n",
    "ax;"
   ]
  },
  {
   "cell_type": "markdown",
   "metadata": {},
   "source": [
    "##### Boxplot - Distribuição dos pesos de acordo com o sexo e classe de idade"
   ]
  },
  {
   "cell_type": "code",
   "execution_count": null,
   "metadata": {},
   "outputs": [],
   "source": [
    "ax = sns.boxplot(data = dados,\n",
    "                 x = 'CLASSE_IDADE',\n",
    "                 y = 'VB17003',\n",
    "                 hue = 'VB01001', palette = 'Accent_r')\n",
    "ax.figure.set_size_inches((13,6))\n",
    "ax.set_xlabel('Classe de idade', fontsize = 14)\n",
    "ax.set_ylabel('Peso', fontsize = 14)\n",
    "handles, _ = ax.get_legend_handles_labels()          \n",
    "ax.legend(handles, [\"Masculino\", \"Feminino\"], loc=\"best\")\n",
    "ax;"
   ]
  },
  {
   "cell_type": "markdown",
   "metadata": {},
   "source": [
    "### Altura"
   ]
  },
  {
   "cell_type": "markdown",
   "metadata": {},
   "source": [
    "#### Estatísticas da <ins>altura</ins>"
   ]
  },
  {
   "cell_type": "markdown",
   "metadata": {},
   "source": [
    "Média"
   ]
  },
  {
   "cell_type": "code",
   "execution_count": null,
   "metadata": {},
   "outputs": [],
   "source": [
    "media_altura = dados['VB17004'].mean()\n",
    "print(f'Média da altura: {media_altura}')"
   ]
  },
  {
   "cell_type": "markdown",
   "metadata": {},
   "source": [
    "Mediana"
   ]
  },
  {
   "cell_type": "code",
   "execution_count": null,
   "metadata": {},
   "outputs": [],
   "source": [
    "mediana_altura = dados['VB17004'].median()\n",
    "print(f'Média da altura: {mediana_altura}')"
   ]
  },
  {
   "cell_type": "markdown",
   "metadata": {},
   "source": [
    "Moda"
   ]
  },
  {
   "cell_type": "code",
   "execution_count": null,
   "metadata": {},
   "outputs": [],
   "source": [
    "moda_altura = dados['VB17004'].mode()[0]\n",
    "print(f'Média da altura: {moda_altura}')"
   ]
  },
  {
   "cell_type": "markdown",
   "metadata": {},
   "source": [
    "Desvio Padrão"
   ]
  },
  {
   "cell_type": "code",
   "execution_count": null,
   "metadata": {},
   "outputs": [],
   "source": [
    "desvio_padrao_altura = dados['VB17004'].std()\n",
    "print(f'Média da altura: {desvio_padrao_altura}')"
   ]
  },
  {
   "cell_type": "markdown",
   "metadata": {},
   "source": [
    "##### Unificação das estatísticas (dataframe)"
   ]
  },
  {
   "cell_type": "code",
   "execution_count": null,
   "metadata": {},
   "outputs": [],
   "source": [
    "df_estatisticas_altura = pd.DataFrame([media_altura, mediana_altura, moda_altura,\n",
    "                                       desvio_padrao_altura],\n",
    "             index = ['Media', 'Mediana', 'Moda', 'Desvio Padrão'])\n",
    "formata_float_df(df_estatisticas_altura)\n",
    "df_estatisticas_altura.columns = ['']\n",
    "df_estatisticas_altura"
   ]
  },
  {
   "cell_type": "markdown",
   "metadata": {},
   "source": [
    "##### Histograma - Distribuição da altura "
   ]
  },
  {
   "cell_type": "code",
   "execution_count": null,
   "metadata": {},
   "outputs": [],
   "source": [
    "ax = sns.histplot(data = dados, x = 'VB17004')\n",
    "ax.figure.set_size_inches((13, 6))\n",
    "ax.set_title('Distribuição da altura', fontsize = 22)\n",
    "ax.set_xlabel('Altura', fontsize = 12)\n",
    "ax.set_ylabel('Quantidade de ocorrências', fontsize = 12)\n",
    "\n",
    "# linha com a média para o histograma\n",
    "ax.axvline(x = dados['VB17004'].mean(), linestyle = '-', linewidth = 2.5,\n",
    "           label = 'Média',\n",
    "           color = '#000000')\n",
    "\n",
    "# linha com a mediana para o histograma\n",
    "ax.axvline(x = dados['VB17004'].median(), linestyle = '--', linewidth = 2.5,\n",
    "           label = 'Mediana',\n",
    "           color = '#7FFF00')\n",
    "\n",
    "# linha com a moda para o histograma\n",
    "ax.axvline(x = dados['VB17004'].mode()[0], linestyle = '-.', linewidth = 2.5,\n",
    "           label = 'Mediana',\n",
    "           color = '#FF1493')\n",
    "\n",
    "# intervalo de confiança da distribuição dos pesos\n",
    "xmin = media_altura - desvio_padrao_altura\n",
    "xmax = media_altura + desvio_padrao_altura\n",
    "# área do desvio padrão\n",
    "ax.axvspan(xmin, xmax, alpha=0.3, color='gray', label='Desvio Padrão')\n",
    "\n",
    "ax.legend(title = 'Medidas')\n",
    "ax;"
   ]
  },
  {
   "cell_type": "markdown",
   "metadata": {},
   "source": [
    "#### Estatísticas da <ins>altura</ins>  X  <ins>classe de idade</ins>"
   ]
  },
  {
   "cell_type": "markdown",
   "metadata": {},
   "source": [
    "Médias das alturas por classe de idade"
   ]
  },
  {
   "cell_type": "code",
   "execution_count": null,
   "metadata": {},
   "outputs": [],
   "source": [
    "media_alturas_por_classe_idade = pd.DataFrame(dados.groupby('CLASSE_IDADE')['VB17004'].mean())\n",
    "media_alturas_por_classe_idade.index.name = 'Classe da idade'\n",
    "media_alturas_por_classe_idade.columns = ['Média da altura por classe de idade']\n",
    "media_alturas_por_classe_idade"
   ]
  },
  {
   "cell_type": "markdown",
   "metadata": {},
   "source": [
    "Medianas das alturas por classe de idade"
   ]
  },
  {
   "cell_type": "code",
   "execution_count": null,
   "metadata": {},
   "outputs": [],
   "source": [
    "mediana_alturas_por_classe_idade = pd.DataFrame(dados.groupby('CLASSE_IDADE')['VB17004'].median())\n",
    "media_alturas_por_classe_idade.index.name = 'Classe da idade'\n",
    "media_alturas_por_classe_idade.columns = ['Mediana da altura por classe de idade']\n",
    "mediana_alturas_por_classe_idade"
   ]
  },
  {
   "cell_type": "markdown",
   "metadata": {},
   "source": [
    "Modas das alturas por classe de idade"
   ]
  },
  {
   "cell_type": "code",
   "execution_count": null,
   "metadata": {},
   "outputs": [],
   "source": [
    "lista_valores_classe_idade = dados['CLASSE_IDADE'].unique()\n",
    "len_valores_classe_idade = len(lista_valores_classe_idade)\n",
    "lista = []\n",
    "for i in range(0, len_valores_classe_idade):\n",
    "    lista.append(dados['VB17004'][dados['CLASSE_IDADE'] == lista_valores_classe_idade[i]].mode()[0])\n",
    "df_modas_classe_idade = pd.DataFrame({'Moda': lista}, index = lista_valores_classe_idade)\n",
    "df_modas_classe_idade.index.name = 'Classe (idade)'\n",
    "df_modas_classe_idade"
   ]
  },
  {
   "cell_type": "markdown",
   "metadata": {},
   "source": [
    "Desvios padrão das alturas por classe de idade"
   ]
  },
  {
   "cell_type": "code",
   "execution_count": null,
   "metadata": {},
   "outputs": [],
   "source": [
    "desvios_padrao_altura_por_classe_idade = pd.DataFrame(dados.groupby('CLASSE_IDADE')['VB17004'].std())\n",
    "desvios_padrao_altura_por_classe_idade.index.name = 'Classe de idade'\n",
    "desvios_padrao_altura_por_classe_idade.columns = ['Desvio padrão por classe de idade']\n",
    "desvios_padrao_altura_por_classe_idade"
   ]
  },
  {
   "cell_type": "markdown",
   "metadata": {},
   "source": [
    "#### Estatísticas das <ins>alturas</ins>  X  <ins>sexo e classe de idade</ins>"
   ]
  },
  {
   "cell_type": "markdown",
   "metadata": {},
   "source": [
    "Valores mínimo e máximo das alturas X sexo e classe de idade"
   ]
  },
  {
   "cell_type": "code",
   "execution_count": null,
   "metadata": {},
   "outputs": [],
   "source": [
    "minimo_altura_sexo_idade = pd.crosstab(index = dados['CLASSE_IDADE'],\n",
    "            columns = dados['VB01001'],\n",
    "            values = dados['VB17004'],\n",
    "            aggfunc = 'min')\n",
    "minimo_altura_sexo_idade.index.name = 'Classes de idade'\n",
    "minimo_altura_sexo_idade.columns.name = ''\n",
    "minimo_altura_sexo_idade.columns = ['Masculino', 'Feminino']\n",
    "print('Valores mínimos das alturas por sexo e idade:')\n",
    "minimo_altura_sexo_idade"
   ]
  },
  {
   "cell_type": "code",
   "execution_count": null,
   "metadata": {},
   "outputs": [],
   "source": [
    "maximo_altura_sexo_idade = pd.crosstab(index = dados['CLASSE_IDADE'],\n",
    "            columns = dados['VB01001'],\n",
    "            values = dados['VB17004'],\n",
    "            aggfunc = 'max')\n",
    "maximo_altura_sexo_idade.index.name = 'Classes de idade'\n",
    "maximo_altura_sexo_idade.columns.name = ''\n",
    "maximo_altura_sexo_idade.columns = ['Masculino', 'Feminino']\n",
    "print('Valores máximos das alturas por sexo e idade:')\n",
    "maximo_altura_sexo_idade"
   ]
  },
  {
   "cell_type": "markdown",
   "metadata": {},
   "source": [
    "Média das alturas de acordo com o sexo e a classe de idade"
   ]
  },
  {
   "cell_type": "code",
   "execution_count": null,
   "metadata": {},
   "outputs": [],
   "source": [
    "media_alturas_sexo_idade = pd.crosstab(index = dados['CLASSE_IDADE'],\n",
    "                                       columns = dados['VB01001'],\n",
    "                                       values = dados['VB17004'],\n",
    "                                       aggfunc = 'mean')\n",
    "media_alturas_sexo_idade.columns = ['Masculino', 'Feminino']\n",
    "media_alturas_sexo_idade.index.name = 'Classes das idades'\n",
    "print('Médias das alturas por sexo e por idade')\n",
    "media_alturas_sexo_idade"
   ]
  },
  {
   "cell_type": "markdown",
   "metadata": {},
   "source": [
    "Mediana das alturas de acordo com o sexo e a classe de idade"
   ]
  },
  {
   "cell_type": "code",
   "execution_count": null,
   "metadata": {},
   "outputs": [],
   "source": [
    "mediana_alturas_sexo_idade = pd.crosstab(index = dados['CLASSE_IDADE'],\n",
    "                                       columns = dados['VB01001'],\n",
    "                                       values = dados['VB17004'],\n",
    "                                       aggfunc = 'median')\n",
    "mediana_alturas_sexo_idade.columns = ['Masculino', 'Feminino']\n",
    "mediana_alturas_sexo_idade.index.name = 'Classes das idades'\n",
    "print('Medianas das alturas por sexo e por idade')\n",
    "mediana_alturas_sexo_idade"
   ]
  },
  {
   "cell_type": "markdown",
   "metadata": {},
   "source": [
    "Moda dos pesos de acordo com o sexo e classe de idade"
   ]
  },
  {
   "cell_type": "code",
   "execution_count": null,
   "metadata": {},
   "outputs": [],
   "source": [
    "valores_classes_idade = dados['CLASSE_IDADE'].unique()\n",
    "valores_sexo = dados['VB01001'].sort_values().unique()\n",
    "lista_masculino = []\n",
    "lista_feminino = []\n",
    "\n",
    "for classe in valores_classes_idade:\n",
    "    for sexo in valores_sexo:\n",
    "        if sexo == 1:\n",
    "            lista_masculino.append(dados['VB17004'][(dados['VB01001'] == sexo) & (dados['CLASSE_IDADE'] == classe)].mode()[0])\n",
    "        elif sexo == 2:\n",
    "            lista_feminino.append(dados['VB17004'][(dados['VB01001'] == sexo) & (dados['CLASSE_IDADE'] == classe)].mode()[0])"
   ]
  },
  {
   "cell_type": "code",
   "execution_count": null,
   "metadata": {},
   "outputs": [],
   "source": [
    "df_moda_alturas_sexo_idade = pd.DataFrame([lista_masculino, lista_feminino]).T\n",
    "df_moda_alturas_sexo_idade.index = [valores_classes_idade]\n",
    "df_moda_alturas_sexo_idade.columns = ['Masculino', 'Feminino']\n",
    "df_moda_alturas_sexo_idade"
   ]
  },
  {
   "cell_type": "markdown",
   "metadata": {},
   "source": [
    "Desvios padrão das alturas de acordo com o sexo e a classe de idade"
   ]
  },
  {
   "cell_type": "code",
   "execution_count": null,
   "metadata": {},
   "outputs": [],
   "source": [
    "desvio_padrao_alturas_sexo_idade = pd.crosstab(index = dados['CLASSE_IDADE'],\n",
    "            columns = dados['VB01001'],\n",
    "            values = dados['VB17004'],\n",
    "            aggfunc='std')\n",
    "desvio_padrao_alturas_sexo_idade.columns = ['Masculino', 'Feminino']\n",
    "desvio_padrao_alturas_sexo_idade.index.name = 'Classes das idades'\n",
    "desvio_padrao_alturas_sexo_idade"
   ]
  },
  {
   "cell_type": "markdown",
   "metadata": {},
   "source": [
    "#### Alguns gráficos"
   ]
  },
  {
   "cell_type": "markdown",
   "metadata": {
    "heading_collapsed": true
   },
   "source": [
    "##### Histograma - Distribuição geral das alturas"
   ]
  },
  {
   "cell_type": "code",
   "execution_count": null,
   "metadata": {
    "hidden": true
   },
   "outputs": [],
   "source": [
    "ax = sns.histplot(data = dados, x = 'VB17004')\n",
    "ax.figure.set_size_inches((13, 6))\n",
    "ax.set_title('Distribuição das Altura', fontsize = 22)\n",
    "ax.set_xlabel('Altura', fontsize = 12)\n",
    "ax.set_ylabel('Quantidade de ocorrências', fontsize = 12)\n",
    "\n",
    "# linha com a média dos pesos\n",
    "ax.axvline(x = dados['VB17004'].mean(),\n",
    "           label = 'Média',\n",
    "           linewidth = 2,\n",
    "           color = '#000000')\n",
    "# linha com a mediana dos pesos\n",
    "ax.axvline(x = dados['VB17004'].median(),\n",
    "           label = 'Mediana',\n",
    "           linewidth = 2,\n",
    "           linestyle = '--',\n",
    "           color = '#7FFF00')\n",
    "#linha com a moda dos pesos\n",
    "ax.axvline(x = dados['VB17004'].mode().values,\n",
    "           label = 'Moda',\n",
    "           linewidth = 2,\n",
    "           linestyle = '-.',\n",
    "           color = '#FF1493')\n",
    "\n",
    "# intervalo de confiança da distribuição dos pesos\n",
    "xmin = media_altura - desvio_padrao_altura\n",
    "xmax = media_altura + desvio_padrao_altura\n",
    "# área do desvio padrão\n",
    "ax.axvspan(xmin, xmax, alpha=0.3, color='gray', label='Desvio Padrão')\n",
    "\n",
    "ax.legend(title = 'Medidas')\n",
    "ax;"
   ]
  },
  {
   "cell_type": "markdown",
   "metadata": {
    "heading_collapsed": true
   },
   "source": [
    "##### Boxplot - distribuição das alturas de acordo com a classe de idade"
   ]
  },
  {
   "cell_type": "code",
   "execution_count": null,
   "metadata": {
    "hidden": true
   },
   "outputs": [],
   "source": [
    "ax = sns.boxplot(x = dados['CLASSE_IDADE'], y = dados['VB17004'], palette = 'winter_r')\n",
    "ax.figure.set_size_inches((13,6))\n",
    "ax.set_xlabel('Classe de idade', fontsize = 14)\n",
    "ax.set_ylabel('Altura', fontsize = 14)\n",
    "ax;"
   ]
  },
  {
   "cell_type": "markdown",
   "metadata": {
    "heading_collapsed": true
   },
   "source": [
    "##### Boxplot - Distribuição das alturas de acordo com o sexo e classe de idade"
   ]
  },
  {
   "cell_type": "code",
   "execution_count": null,
   "metadata": {
    "hidden": true
   },
   "outputs": [],
   "source": [
    "ax = sns.boxplot(data = dados,\n",
    "                 x = 'CLASSE_IDADE',\n",
    "                 y = 'VB17004',\n",
    "                 hue = 'VB01001', palette = 'Accent_r')\n",
    "ax.figure.set_size_inches((13,6))\n",
    "ax.set_xlabel('Classe de idade', fontsize = 14)\n",
    "ax.set_ylabel('Altura', fontsize = 14)\n",
    "handles, _ = ax.get_legend_handles_labels()          \n",
    "ax.legend(handles, [\"Masculino\", \"Feminino\"], loc=\"best\")\n",
    "ax;"
   ]
  },
  {
   "cell_type": "markdown",
   "metadata": {},
   "source": [
    "### IMC"
   ]
  },
  {
   "cell_type": "markdown",
   "metadata": {},
   "source": [
    "#### Criação das colunas IMC"
   ]
  },
  {
   "cell_type": "code",
   "execution_count": null,
   "metadata": {},
   "outputs": [],
   "source": [
    "dados['IMC'] = dados['VB17003'] / ((dados['VB17004']/100)**2)"
   ]
  },
  {
   "cell_type": "markdown",
   "metadata": {},
   "source": [
    "#### Estatísticas sobre o <ins>IMC</ins>"
   ]
  },
  {
   "cell_type": "markdown",
   "metadata": {},
   "source": [
    "Valores mínimo e máximo da coluna IMC"
   ]
  },
  {
   "cell_type": "code",
   "execution_count": null,
   "metadata": {},
   "outputs": [],
   "source": [
    "min_max_imc = pd.DataFrame([dados['IMC'].min(), dados['IMC'].max()])\n",
    "min_max_imc.index = ['Mínimo', 'Máximo']\n",
    "min_max_imc.columns = ['Valores mínimo e máximo do IMC']\n",
    "min_max_imc"
   ]
  },
  {
   "cell_type": "markdown",
   "metadata": {},
   "source": [
    "Média dos IMCs "
   ]
  },
  {
   "cell_type": "code",
   "execution_count": null,
   "metadata": {},
   "outputs": [],
   "source": [
    "media_imc = dados['IMC'].mean()\n",
    "print(f'Média dos IMCs: {media_imc}')"
   ]
  },
  {
   "cell_type": "markdown",
   "metadata": {},
   "source": [
    "Mediana dos IMCs"
   ]
  },
  {
   "cell_type": "code",
   "execution_count": null,
   "metadata": {},
   "outputs": [],
   "source": [
    "mediana_imc = dados['IMC'].median()\n",
    "print(f'Mediana dos IMCs: {mediana_imc}')"
   ]
  },
  {
   "cell_type": "markdown",
   "metadata": {},
   "source": [
    "Desvio Padrão dos IMCs"
   ]
  },
  {
   "cell_type": "code",
   "execution_count": null,
   "metadata": {},
   "outputs": [],
   "source": [
    "desvio_padrao_imc = dados['IMC'].std()\n",
    "print(f'Desvio Padrão dos IMCs: {desvio_padrao_imc}')"
   ]
  },
  {
   "cell_type": "markdown",
   "metadata": {},
   "source": [
    "#### Estatísticas sobre o <ins>IMC</ins> X <ins>classe de idade</ins>"
   ]
  },
  {
   "cell_type": "markdown",
   "metadata": {},
   "source": [
    "Valores mínimo e máximo dos IMCs x classe de idade"
   ]
  },
  {
   "cell_type": "code",
   "execution_count": null,
   "metadata": {},
   "outputs": [],
   "source": [
    "minimo_imc_sexo_idade = dados.groupby('CLASSE_IDADE')['IMC'].min()\n",
    "maximo_imc_sexo_idade = dados.groupby('CLASSE_IDADE')['IMC'].max()\n",
    "min_max = pd.DataFrame([minimo_imc_sexo_idade, maximo_imc_sexo_idade]).T\n",
    "min_max.index.name = 'Classes de idade'\n",
    "min_max.columns = ['Mínimo', 'Máximo']\n",
    "min_max"
   ]
  },
  {
   "cell_type": "markdown",
   "metadata": {},
   "source": [
    "Podemos perceber no dataframe acima que o valor mínimo da classe de idade entre 10.999 e 13 anos é considerado um outlier. Há uma grande probabilidade de que o valor do peso ou da altura tenha sido preenchido de forma errada. Vamos conferir:"
   ]
  },
  {
   "cell_type": "code",
   "execution_count": null,
   "metadata": {},
   "outputs": [],
   "source": [
    "df = dados[['IMC', 'VB17003', 'VB17004', 'VB01003', 'VB01001']][dados['IMC'] == 0.39786663908124625]\n",
    "df.columns = ['IMC', 'Peso', 'Altura', 'Idade', 'Sexo']\n",
    "df"
   ]
  },
  {
   "cell_type": "markdown",
   "metadata": {},
   "source": [
    "Realmente: o valor do peso parece ter sido preenchido de maneira equivocada, pois o peso mínimo médio de um menino de 12 anos é de 30,48 kg, com altura mínima média de 138,1 cm.\n",
    "\n",
    "Fonte: https://www.unimed.coop.br/web/vitoria/viver-bem/pais-e-filhos/estatura-por-idade"
   ]
  },
  {
   "cell_type": "markdown",
   "metadata": {},
   "source": [
    "Média dos IMCs X classe de idade"
   ]
  },
  {
   "cell_type": "code",
   "execution_count": null,
   "metadata": {},
   "outputs": [],
   "source": [
    "media_imc_classe_idade = pd.DataFrame(dados.groupby('CLASSE_IDADE')['IMC'].mean())\n",
    "media_imc_classe_idade"
   ]
  },
  {
   "cell_type": "markdown",
   "metadata": {},
   "source": [
    "Mediana dos IMCs X classe de idade"
   ]
  },
  {
   "cell_type": "code",
   "execution_count": null,
   "metadata": {},
   "outputs": [],
   "source": [
    "mediana_imc_classe_idade = pd.DataFrame(dados.groupby('CLASSE_IDADE')['IMC'].median())\n",
    "mediana_imc_classe_idade"
   ]
  },
  {
   "cell_type": "markdown",
   "metadata": {},
   "source": [
    "Moda dos IMCs X classe de idade"
   ]
  },
  {
   "cell_type": "code",
   "execution_count": null,
   "metadata": {},
   "outputs": [],
   "source": [
    "lista_valores_classe_idade = dados['CLASSE_IDADE'].unique()\n",
    "len_valores_classe_idade = len(lista_valores_classe_idade)\n",
    "lista = []\n",
    "for i in range(0, len_valores_classe_idade):\n",
    "    lista.append(dados['IMC'][dados['CLASSE_IDADE'] == lista_valores_classe_idade[i]].mode().values)\n",
    "df_modas_classe_idade = pd.DataFrame({'Moda': lista}, index = lista_valores_classe_idade)\n",
    "df_modas_classe_idade.index.name = 'Classe (idade)'\n",
    "df_modas_classe_idade"
   ]
  },
  {
   "cell_type": "markdown",
   "metadata": {},
   "source": [
    "Desvios padrão dos IMCs X classe de idade"
   ]
  },
  {
   "cell_type": "code",
   "execution_count": null,
   "metadata": {},
   "outputs": [],
   "source": [
    "desvio_padrao_imc_idade = pd.DataFrame(dados.groupby('CLASSE_IDADE')['IMC'].std())\n",
    "desvio_padrao_imc_idade"
   ]
  },
  {
   "cell_type": "markdown",
   "metadata": {},
   "source": [
    "#### Estatísticas sobre o <ins>IMC</ins> X <ins>sexo e classe de idade</ins>"
   ]
  },
  {
   "cell_type": "markdown",
   "metadata": {},
   "source": [
    "Valores mínimo e máximo dos IMCs x sexo e classe de idade"
   ]
  },
  {
   "cell_type": "code",
   "execution_count": null,
   "metadata": {},
   "outputs": [],
   "source": [
    "minimo_imc_sexo_idade = pd.crosstab(index = dados['CLASSE_IDADE'],\n",
    "            columns = dados['VB01001'],\n",
    "            values = dados['IMC'],\n",
    "            aggfunc = 'min')\n",
    "minimo_imc_sexo_idade.index.name = 'Classes de idade'\n",
    "minimo_imc_sexo_idade.columns.name = ''\n",
    "minimo_imc_sexo_idade.columns = ['Masculino', 'Feminino']\n",
    "print('Valores mínimos dos IMCs por sexo e idade:')\n",
    "minimo_imc_sexo_idade"
   ]
  },
  {
   "cell_type": "code",
   "execution_count": null,
   "metadata": {},
   "outputs": [],
   "source": [
    "maximo_imc_sexo_idade = pd.crosstab(index = dados['CLASSE_IDADE'],\n",
    "            columns = dados['VB01001'],\n",
    "            values = dados['IMC'],\n",
    "            aggfunc = 'max')\n",
    "maximo_imc_sexo_idade.index.name = 'Classes de idade'\n",
    "maximo_imc_sexo_idade.columns.name = ''\n",
    "maximo_imc_sexo_idade.columns = ['Masculino', 'Feminino']\n",
    "print('Valores máximos dos IMCs por sexo e idade:')\n",
    "maximo_imc_sexo_idade"
   ]
  },
  {
   "cell_type": "markdown",
   "metadata": {},
   "source": [
    "Média dos IMCs X sexo e classe de idade"
   ]
  },
  {
   "cell_type": "code",
   "execution_count": null,
   "metadata": {},
   "outputs": [],
   "source": [
    "media_imc_sexo_idade = pd.crosstab(index = dados['CLASSE_IDADE'],\n",
    "            columns = dados['VB01001'],\n",
    "            values = dados['IMC'],\n",
    "            aggfunc = 'mean')\n",
    "media_imc_sexo_idade.index.name = 'Classes de idade'\n",
    "media_imc_sexo_idade.columns.name = ''\n",
    "media_imc_sexo_idade.columns = ['Masculino', 'Feminino']\n",
    "print('Médias dos IMCs por sexo e idade:')\n",
    "media_imc_sexo_idade"
   ]
  },
  {
   "cell_type": "markdown",
   "metadata": {},
   "source": [
    "Mediana dos IMCs X sexo e classe de idade"
   ]
  },
  {
   "cell_type": "code",
   "execution_count": null,
   "metadata": {},
   "outputs": [],
   "source": [
    "media_imc_sexo_idade = pd.crosstab(index = dados['CLASSE_IDADE'],\n",
    "            columns = dados['VB01001'],\n",
    "            values = dados['IMC'],\n",
    "            aggfunc = 'median')\n",
    "media_imc_sexo_idade.index.name = 'Classes de idade'\n",
    "media_imc_sexo_idade.columns.name = ''\n",
    "media_imc_sexo_idade.columns = ['Masculino', 'Feminino']\n",
    "print('Medianas dos IMCs por sexo e idade:')\n",
    "media_imc_sexo_idade"
   ]
  },
  {
   "cell_type": "markdown",
   "metadata": {},
   "source": [
    "Desvios padrão dos IMCs X sexo e classe de idade"
   ]
  },
  {
   "cell_type": "code",
   "execution_count": null,
   "metadata": {},
   "outputs": [],
   "source": [
    "valores_classes_idade = dados['CLASSE_IDADE'].unique()\n",
    "valores_sexo = dados['VB01001'].sort_values().unique()\n",
    "lista_masculino = []\n",
    "lista_feminino = []\n",
    "\n",
    "for classe in valores_classes_idade:\n",
    "    for sexo in valores_sexo:\n",
    "        if sexo == 1:\n",
    "            lista_masculino.append(dados['IMC'][(dados['VB01001'] == sexo) & (dados['CLASSE_IDADE'] == classe)].mode()[0])\n",
    "        elif sexo == 2:\n",
    "            lista_feminino.append(dados['IMC'][(dados['VB01001'] == sexo) & (dados['CLASSE_IDADE'] == classe)].mode()[0])"
   ]
  },
  {
   "cell_type": "code",
   "execution_count": null,
   "metadata": {},
   "outputs": [],
   "source": [
    "df_moda_imc_sexo_idade = pd.DataFrame([lista_masculino, lista_feminino]).T\n",
    "df_moda_imc_sexo_idade.index = [valores_classes_idade]\n",
    "df_moda_imc_sexo_idade.columns = ['Masculino', 'Feminino']\n",
    "df_moda_imc_sexo_idade"
   ]
  },
  {
   "cell_type": "markdown",
   "metadata": {
    "heading_collapsed": true
   },
   "source": [
    "#### Alguns gráficos"
   ]
  },
  {
   "cell_type": "markdown",
   "metadata": {
    "heading_collapsed": true,
    "hidden": true
   },
   "source": [
    "##### Histograma - Distribuição geral dos IMCs"
   ]
  },
  {
   "cell_type": "markdown",
   "metadata": {
    "hidden": true
   },
   "source": [
    "No caso dos IMCs, temos a ocorrência de uma distribuição multimodal (11 valores). Assim, foram mostrados apenas alguns dos valores."
   ]
  },
  {
   "cell_type": "code",
   "execution_count": null,
   "metadata": {
    "hidden": true
   },
   "outputs": [],
   "source": [
    "ax = sns.histplot(data = dados, x = 'IMC')\n",
    "ax.figure.set_size_inches((13, 6))\n",
    "ax.set_title('Distribuição dos IMCs', fontsize = 22)\n",
    "ax.set_xlabel('Imc', fontsize = 12)\n",
    "ax.set_ylabel('Quantidade de ocorrências', fontsize = 12)\n",
    "\n",
    "# linha com a média dos pesos\n",
    "ax.axvline(x = dados['IMC'].mean(),\n",
    "           label = 'Média',\n",
    "           linewidth = 2,\n",
    "           color = '#000000')\n",
    "\n",
    "# linha com a mediana dos pesos\n",
    "ax.axvline(x = dados['IMC'].median(),\n",
    "           label = 'Mediana',\n",
    "           linewidth = 2,\n",
    "           linestyle = '--',\n",
    "           color = '#7FFF00')\n",
    "\n",
    "#linha com a moda 0\n",
    "ax.axvline(x = dados['IMC'].mode()[0],\n",
    "           label = 'Menor valor entre as modas',\n",
    "           linewidth = 2,\n",
    "           linestyle = '-.',\n",
    "           color = '#DB7093')\n",
    "\n",
    "# linha com a moda 5\n",
    "ax.axvline(x = dados['IMC'].mode()[5],\n",
    "           label = 'Mediana das Modas',\n",
    "           linewidth = 2,\n",
    "           linestyle = '-.',\n",
    "           color = '#CD5C5C')\n",
    "\n",
    "# linha com a moda 1\n",
    "ax.axvline(x = dados['IMC'].mode()[10],\n",
    "           label = 'Maior valor entre as Modas',\n",
    "           linewidth = 2,\n",
    "           linestyle = '-.',\n",
    "           color = '#DC143C')\n",
    "\n",
    "# intervalo de confiança da distribuição dos pesos\n",
    "xmin = media_imc - desvio_padrao_imc\n",
    "xmax = media_imc + desvio_padrao_imc\n",
    "# xmin = norm.interval(alpha = 0.95, loc = media, scale = (std / np.sqrt(n)))[0]\n",
    "# xmax = norm.interval(alpha = 0.95, loc = media, scale = (std / np.sqrt(n)))[1]\n",
    "# área do desvio padrão\n",
    "ax.axvspan(xmin, xmax, alpha=0.3, color='gray', label='Desvio Padrão')\n",
    "\n",
    "ax.legend(title = 'Medidas')\n",
    "ax;"
   ]
  },
  {
   "cell_type": "markdown",
   "metadata": {
    "heading_collapsed": true,
    "hidden": true
   },
   "source": [
    "##### Boxplot - distribuição dos IMCs de acordo com a classe de idade"
   ]
  },
  {
   "cell_type": "code",
   "execution_count": null,
   "metadata": {
    "hidden": true
   },
   "outputs": [],
   "source": [
    "ax = sns.boxplot(x = dados['CLASSE_IDADE'], y = dados['IMC'], palette = 'winter_r')\n",
    "ax.figure.set_size_inches((13,6))\n",
    "ax.set_xlabel('Classe de idade', fontsize = 14)\n",
    "ax.set_ylabel('IMC', fontsize = 14)\n",
    "ax;"
   ]
  },
  {
   "cell_type": "markdown",
   "metadata": {
    "heading_collapsed": true,
    "hidden": true
   },
   "source": [
    "##### Boxplot - Distribuição dos IMCs de acordo com o sexo e classe de idade"
   ]
  },
  {
   "cell_type": "code",
   "execution_count": null,
   "metadata": {
    "hidden": true
   },
   "outputs": [],
   "source": [
    "ax = sns.boxplot(data = dados,\n",
    "                 x = 'CLASSE_IDADE',\n",
    "                 y = 'IMC',\n",
    "                 hue = 'VB01001', palette = 'Accent_r')\n",
    "ax.figure.set_size_inches((13,6))\n",
    "ax.set_xlabel('Classe de idade', fontsize = 14)\n",
    "ax.set_ylabel('IMC', fontsize = 14)\n",
    "handles, _ = ax.get_legend_handles_labels()          \n",
    "ax.legend(handles, [\"Masculino\", \"Feminino\"], loc=\"best\")\n",
    "ax;"
   ]
  },
  {
   "cell_type": "markdown",
   "metadata": {
    "heading_collapsed": true,
    "hidden": true
   },
   "source": [
    "##### Boxplot - Distribuição dos IMCs de acordo com o sexo"
   ]
  },
  {
   "cell_type": "code",
   "execution_count": null,
   "metadata": {
    "hidden": true
   },
   "outputs": [],
   "source": [
    "ax = sns.boxplot(x = dados['VB01001'], y = dados['IMC'])\n",
    "ax.set_xticklabels(labels = ['Masculino', 'Feminino'])\n",
    "ax.set_xlabel('Sexo', fontsize = 14, labelpad = 20)\n",
    "ax.set_ylabel('IMC', fontsize = 14, labelpad = 20)\n",
    "ax.figure.set_size_inches((12,6))"
   ]
  },
  {
   "cell_type": "markdown",
   "metadata": {
    "heading_collapsed": true,
    "hidden": true
   },
   "source": [
    "##### Boxplot - Distribuição dos IMCs de acordo com a raça"
   ]
  },
  {
   "cell_type": "code",
   "execution_count": null,
   "metadata": {
    "hidden": true
   },
   "outputs": [],
   "source": [
    "ax = sns.boxplot(x = dados['VB01002'], y = dados['IMC'])\n",
    "ax.set_xticklabels(labels = raca)\n",
    "ax.set_xlabel('Raça', fontsize = 14, labelpad = 20)\n",
    "ax.set_ylabel('IMC', fontsize = 14, labelpad = 20)\n",
    "ax.figure.set_size_inches((12,6))"
   ]
  },
  {
   "cell_type": "markdown",
   "metadata": {},
   "source": [
    "### Classe do IMC"
   ]
  },
  {
   "cell_type": "markdown",
   "metadata": {},
   "source": [
    "#### Criando a coluna CLASSES_IMC"
   ]
  },
  {
   "cell_type": "code",
   "execution_count": null,
   "metadata": {},
   "outputs": [],
   "source": [
    "classes = [0, 18.5, 25, 30, 40, 80]\n",
    "labels = ['MAGREZA', 'NORMAL', 'SOBREPESO', 'OBESIDADE', 'OBESIDADE GRAVE']\n",
    "\n",
    "dados['CLASSE_IMC'] = pd.cut(x = dados['IMC'], bins = classes, labels = labels, include_lowest = True)"
   ]
  },
  {
   "cell_type": "markdown",
   "metadata": {},
   "source": [
    "#### Quantidade de ocorrências das classes do IMC"
   ]
  },
  {
   "cell_type": "code",
   "execution_count": null,
   "metadata": {},
   "outputs": [],
   "source": [
    "counts_classe_imc = pd.DataFrame(dados.CLASSE_IMC.value_counts(ascending = True))\n",
    "counts_classe_imc.columns = ['CLASSE_IMC']\n",
    "counts_classe_imc"
   ]
  },
  {
   "cell_type": "code",
   "execution_count": null,
   "metadata": {},
   "outputs": [],
   "source": [
    "ax = sns.countplot(data = dados, y = 'CLASSE_IMC')\n",
    "ax.figure.set_size_inches((9,5))\n",
    "ax.set_title('Número de ocorrências das classes do IMC', fontsize = 22, pad = 20)\n",
    "ax.set_xlabel('Número de ocorrências', fontsize = 14, labelpad = 20)\n",
    "ax.set_ylabel('Classe do IMC', fontsize = 14, labelpad = 20)\n",
    "ax.grid()\n",
    "ax;"
   ]
  },
  {
   "cell_type": "markdown",
   "metadata": {},
   "source": [
    "#### Quantidade de alunos <ins>abaixo e acima do peso ideal</ins>"
   ]
  },
  {
   "cell_type": "code",
   "execution_count": null,
   "metadata": {},
   "outputs": [],
   "source": [
    "abaixo = dados[dados['IMC'] < 18.5]['CLASSE_IMC'].count()\n",
    "normal = dados[(dados['IMC'] >= 18.5) & ((dados['IMC'] < 25))]['CLASSE_IMC'].count()\n",
    "acima = dados[dados['IMC'] >= 25]['CLASSE_IMC'].count()"
   ]
  },
  {
   "cell_type": "code",
   "execution_count": null,
   "metadata": {},
   "outputs": [],
   "source": [
    "df_num_absolutos_imc = pd.DataFrame([abaixo, normal, acima])\n",
    "df_num_absolutos_imc.index = ['Abaixo do peso', 'Peso normal', 'Acima do peso']\n",
    "df_num_absolutos_imc.columns = ['Quantidade']\n",
    "df_num_absolutos_imc"
   ]
  },
  {
   "cell_type": "code",
   "execution_count": null,
   "metadata": {},
   "outputs": [],
   "source": [
    "porc_abaixo = (abaixo / len(dados.CLASSE_IMC) ) * 100\n",
    "porc_normal = (normal / len(dados.CLASSE_IMC) ) * 100\n",
    "porc_acima = (acima / len(dados.CLASSE_IMC) ) * 100"
   ]
  },
  {
   "cell_type": "code",
   "execution_count": null,
   "metadata": {},
   "outputs": [],
   "source": [
    "df_porc_imc = pd.DataFrame([porc_abaixo, porc_normal, porc_acima])\n",
    "df_porc_imc.index = ['Abaixo do peso', 'Peso normal', 'Acima do peso']\n",
    "df_porc_imc.columns = ['Porcentagem']\n",
    "df_porc_imc"
   ]
  },
  {
   "cell_type": "code",
   "execution_count": null,
   "metadata": {},
   "outputs": [],
   "source": [
    "fig = px.pie(df_num_absolutos_imc,\n",
    "             values='Quantidade',\n",
    "             names= df_num_absolutos_imc.index,\n",
    "             labels = ['Abaixo do peso', 'Peso normal', 'Acima do peso'],\n",
    "             title='Porcentagem e Quantidade de alunos abaixo e acima do peso e com peso normal')\n",
    "fig.show()"
   ]
  },
  {
   "cell_type": "markdown",
   "metadata": {},
   "source": [
    "#### <ins>Classes de IMC</ins> de acordo com o <ins>sexo</ins>"
   ]
  },
  {
   "cell_type": "markdown",
   "metadata": {},
   "source": [
    "##### Números absolutos de cada classe do IMC, de acordo com o sexo"
   ]
  },
  {
   "cell_type": "code",
   "execution_count": null,
   "metadata": {},
   "outputs": [],
   "source": [
    "imc_sexo_abs = pd.crosstab(index = dados['CLASSE_IMC'], columns = dados['VB01001'])\n",
    "imc_sexo_abs.columns = ['Masculino', 'Feminino']\n",
    "imc_sexo_abs.index.name = 'Classe IMC'\n",
    "imc_sexo_abs"
   ]
  },
  {
   "cell_type": "markdown",
   "metadata": {},
   "source": [
    "##### Porcentagens de cada classe do IMC, de acordo com o sexo"
   ]
  },
  {
   "cell_type": "code",
   "execution_count": null,
   "metadata": {},
   "outputs": [],
   "source": [
    "imc_sexo_porc = pd.crosstab(index = dados['CLASSE_IMC'], columns = dados['VB01001'],\n",
    "                       normalize = 'index')\n",
    "imc_sexo_porc.columns = ['Masculino', 'Feminino']\n",
    "imc_sexo_porc[['Masculino', 'Feminino']] = imc_sexo_porc[['Masculino', 'Feminino']]  * 100\n",
    "imc_sexo_porc.index.name = 'Classe IMC'\n",
    "imc_sexo_porc"
   ]
  },
  {
   "cell_type": "code",
   "execution_count": null,
   "metadata": {},
   "outputs": [],
   "source": [
    "imc_sexo_porc.iloc[0]"
   ]
  },
  {
   "cell_type": "code",
   "execution_count": null,
   "metadata": {},
   "outputs": [],
   "source": [
    "fig = px.pie(imc_sexo_porc,\n",
    "             values = imc_sexo_porc.iloc[0],\n",
    "             names= imc_sexo_porc.columns,\n",
    "             title='Porcentagem de alunos, por sexo, abaixo do peso ideal')\n",
    "fig.show()"
   ]
  },
  {
   "cell_type": "code",
   "execution_count": null,
   "metadata": {},
   "outputs": [],
   "source": [
    "fig = make_subplots(rows=1, cols=5, specs=[[{\"type\": \"pie\"}, {\"type\": \"pie\"},\n",
    "                                            {\"type\": \"pie\"}, {\"type\": \"pie\"}, {\"type\": \"pie\"}]])\n",
    "\n",
    "fig.add_trace(go.Pie(\n",
    "     values=imc_sexo_porc.iloc[0],\n",
    "     labels=['Masculino', 'Feminino'],\n",
    "     name=\"Sexo\",\n",
    "     title = imc_sexo_porc.iloc[0].name), \n",
    "     row=1, col=1)\n",
    "\n",
    "fig.add_trace(go.Pie(\n",
    "     values=imc_sexo_porc.iloc[1],\n",
    "     labels=['Masculino', 'Feminino'],\n",
    "     name=\"Sexo\",\n",
    "     title = imc_sexo_porc.iloc[1].name),\n",
    "    row=1, col=2)\n",
    "\n",
    "fig.add_trace(go.Pie(\n",
    "     values=imc_sexo_porc.iloc[2],\n",
    "     labels=['Masculino', 'Feminino'],\n",
    "     name=\"Sexo\",\n",
    "     title = imc_sexo_porc.iloc[2].name),\n",
    "    row=1, col=3)\n",
    "\n",
    "fig.add_trace(go.Pie(\n",
    "     values=imc_sexo_porc.iloc[3],\n",
    "     labels=['Masculino', 'Feminino'],\n",
    "     name=\"Sexo\",\n",
    "     title = imc_sexo_porc.iloc[3].name),\n",
    "    row=1, col=4)\n",
    "\n",
    "fig.add_trace(go.Pie(\n",
    "     values=imc_sexo_porc.iloc[4],\n",
    "     labels=['Masculino', 'Feminino'],\n",
    "     name=\"Sexo\",\n",
    "    domain=dict(x=[0.5, 1.0]),\n",
    "     title = imc_sexo_porc.iloc[4].name),\n",
    "    row=1, col=5)\n",
    "\n",
    "fig.update_layout(height=300, showlegend=True,\n",
    "                  title = 'Porcentagens de alunos em cada classe de IMC, de acordo com o sexo')\n",
    "go.Layout()\n",
    "fig.show()"
   ]
  },
  {
   "cell_type": "code",
   "execution_count": null,
   "metadata": {},
   "outputs": [],
   "source": [
    "imc_sexo_porc.iloc[0].name"
   ]
  },
  {
   "cell_type": "markdown",
   "metadata": {},
   "source": [
    "#### <ins>Classes de IMC</ins> de acordo com a <ins>raça</ins>"
   ]
  },
  {
   "cell_type": "code",
   "execution_count": null,
   "metadata": {},
   "outputs": [],
   "source": [
    "raca_abs"
   ]
  },
  {
   "cell_type": "markdown",
   "metadata": {},
   "source": [
    "##### Números absolutos"
   ]
  },
  {
   "cell_type": "code",
   "execution_count": null,
   "metadata": {},
   "outputs": [],
   "source": [
    "imc_raca_abs = pd.crosstab(index = dados['CLASSE_IMC'], columns = dados['VB01002'])\n",
    "imc_raca_abs.columns = raca\n",
    "imc_raca_abs.index.name = 'Classe IMC'\n",
    "imc_raca_abs"
   ]
  },
  {
   "cell_type": "markdown",
   "metadata": {},
   "source": [
    "##### Porcentagens"
   ]
  },
  {
   "cell_type": "code",
   "execution_count": null,
   "metadata": {},
   "outputs": [],
   "source": [
    "imc_raca_abs = pd.crosstab(index = dados['CLASSE_IMC'], columns = dados['VB01002'],\n",
    "                           normalize = 'index')\n",
    "imc_raca_abs.columns = raca\n",
    "colunas = imc_raca_abs.columns\n",
    "imc_raca_abs[colunas] = imc_raca_abs[colunas] * 100\n",
    "imc_raca_abs.index.name = 'Classe IMC'\n",
    "print('Normalização por linha')\n",
    "imc_raca_abs"
   ]
  },
  {
   "cell_type": "markdown",
   "metadata": {},
   "source": [
    "##### Distribuição de IMC por raça"
   ]
  },
  {
   "cell_type": "code",
   "execution_count": null,
   "metadata": {},
   "outputs": [],
   "source": [
    "imc_raca = dados.query('VB01002 != 99')\n",
    "\n",
    "ax = sns.boxplot(x = imc_raca['VB01002'], y = dados['IMC'])\n",
    "ax.set_xticklabels(labels = colunas[:5])\n",
    "ax.set_xlabel('Raça', fontsize = 14, labelpad = 20)\n",
    "ax.set_ylabel('IMC', fontsize = 14, labelpad = 20)\n",
    "ax.figure.set_size_inches((12,6))"
   ]
  },
  {
   "cell_type": "markdown",
   "metadata": {},
   "source": [
    "### Grau de satisfação com o corpo"
   ]
  },
  {
   "cell_type": "code",
   "execution_count": null,
   "metadata": {},
   "outputs": [],
   "source": [
    "# número de respostas para o grau de satisfação com o corpo\n",
    "sat = dados[(dados['VB11007'] == 1) | (dados['VB11007'] == 2)]['VB11007'].sum()\n",
    "indiferente = dados[dados['VB11007'] == 3]['VB11007'].sum()\n",
    "ins = dados[(dados['VB11007'] == 4) | (dados['VB11007'] == 5)]['VB11007'].sum()\n",
    "n_informado = dados[dados['VB11007'] == 99]['VB11007'].sum()"
   ]
  },
  {
   "cell_type": "code",
   "execution_count": null,
   "metadata": {},
   "outputs": [],
   "source": [
    "# Distribuição das respostas sobre satisfação com o corpo\n",
    "df_satisfacao_corpo = pd.DataFrame([sat, indiferente, ins, n_informado])\n",
    "df_satisfacao_corpo.index = ['Satisfeitos ou muito satisfeitos', 'Indiferente',\n",
    "                             'Insatisfeitos ou muito insatisfeitos', 'Não informado']\n",
    "df_satisfacao_corpo.index.name = 'Grau de satisfação'\n",
    "df_satisfacao_corpo.columns = ['Nº de respostas']\n",
    "df_satisfacao_corpo"
   ]
  },
  {
   "cell_type": "code",
   "execution_count": null,
   "metadata": {},
   "outputs": [],
   "source": [
    "fig = px.bar(data_frame = df_satisfacao_corpo,x = df_satisfacao_corpo.index, y = 'Nº de respostas',\n",
    "             color = df_satisfacao_corpo.index, color_discrete_sequence=px.colors.qualitative.Dark2,\n",
    "             title = 'Número de respostas para cada grau de satisfação com o corpo')\n",
    "fig.update_layout(font_family=\"Rockwell\", legend=dict(\n",
    "                  title=None, orientation=\"h\", y=1, yanchor=\"bottom\", x=0.5, xanchor=\"center\"))\n",
    "fig.show()"
   ]
  },
  {
   "cell_type": "code",
   "execution_count": null,
   "metadata": {},
   "outputs": [],
   "source": [
    "plt.figure(figsize = (15,5))\n",
    "fig = px.pie(df_satisfacao_corpo,\n",
    "             values='Nº de respostas',\n",
    "             names= df_satisfacao_corpo.index,\n",
    "             labels = df_satisfacao_corpo.index,\n",
    "             title='Números e porcentagens de respostas sobre o grau de satisfação com o corpo')\n",
    "fig.show()"
   ]
  },
  {
   "cell_type": "markdown",
   "metadata": {},
   "source": [
    "Apesar de menor, o número de alunos insatisfeitos ou muito insatisfeitos com o próprio corpo equivale a quase 70% dos que se sentem satisfeitos ou muito satisfeitos com o próprio corpo."
   ]
  },
  {
   "cell_type": "markdown",
   "metadata": {},
   "source": [
    "# VERIFICAÇÃO DE ALGUMAS HIPÓTESES"
   ]
  },
  {
   "cell_type": "markdown",
   "metadata": {},
   "source": [
    "## A média do IMC das pessoas insatisfeitas ou muito insatisfeitas com seu corpo está abaixo ou acima do IMC considerado normal (entre 18,5 e 24,9)."
   ]
  },
  {
   "cell_type": "code",
   "execution_count": null,
   "metadata": {},
   "outputs": [],
   "source": [
    "ins = dados[(dados['VB11007'] == 4) | (dados['VB11007'] == 5)]"
   ]
  },
  {
   "cell_type": "code",
   "execution_count": null,
   "metadata": {},
   "outputs": [],
   "source": [
    "ins['IMC'].mean()"
   ]
  },
  {
   "cell_type": "markdown",
   "metadata": {},
   "source": [
    "Acima verificamos que a média do IMC das pessoas insatisfeitas ou muito insatisfeitas com o próprio corpo é de aproximadamente 23, simplismente dentro do que é considerado um peso normal de acordo com a medida proposta."
   ]
  },
  {
   "cell_type": "code",
   "execution_count": null,
   "metadata": {},
   "outputs": [],
   "source": [
    "n = len(ins['IMC'])\n",
    "media = ins['IMC'].mean()\n",
    "std = ins['IMC'].std()"
   ]
  },
  {
   "cell_type": "code",
   "execution_count": null,
   "metadata": {},
   "outputs": [],
   "source": [
    "norm.interval(alpha = 0.95, loc = media, scale = std / np.sqrt(n))"
   ]
  },
  {
   "cell_type": "markdown",
   "metadata": {},
   "source": [
    "Se repetirmos o experimento várias vezes, em 95% delas a média do IMC populacional de alunos insatisfeitos ou muito insatisfeitos com o próprio corpo estará entre no intervalo entre 22.69 e 23.06."
   ]
  },
  {
   "cell_type": "markdown",
   "metadata": {},
   "source": [
    "## Há grande diferença nas porcentagens de alunos satisfeitos ou muito satisfeitos, em relação ao corpo, por raça/cor."
   ]
  },
  {
   "cell_type": "code",
   "execution_count": null,
   "metadata": {},
   "outputs": [],
   "source": [
    "df = pd.crosstab(index = dados['VB01002'], columns = dados['VB11007'])\n",
    "df.index = raca\n",
    "df.columns = ['Muito satisfeito(a)', 'Satisfeito(a)','Indiferente','Insatisfeito(a)',\n",
    "              'Muito insatisfeito(a)', 'Não informado']"
   ]
  },
  {
   "cell_type": "code",
   "execution_count": null,
   "metadata": {},
   "outputs": [],
   "source": [
    "df['Total'] = df.sum(axis = 1)\n",
    "df"
   ]
  },
  {
   "cell_type": "markdown",
   "metadata": {},
   "source": [
    "### Porcentagem de alunos satisfeitos ou muito satisfeitos para cada cor/raça"
   ]
  },
  {
   "cell_type": "code",
   "execution_count": null,
   "metadata": {},
   "outputs": [],
   "source": [
    "# quantidade de respostas de satisfação para cada raça/cor\n",
    "sat = dados[(dados['VB11007'] == 1) | (dados['VB11007'] == 2)]['VB01002'].value_counts().sort_index()\n",
    "sat"
   ]
  },
  {
   "cell_type": "code",
   "execution_count": null,
   "metadata": {},
   "outputs": [],
   "source": [
    "satisfacao_cada_raca = pd.DataFrame(sat)\n",
    "satisfacao_cada_raca.index = raca\n",
    "satisfacao_cada_raca.index.name = 'Raça'\n",
    "satisfacao_cada_raca.columns = ['Nº de alunos satisfeitos']\n",
    "satisfacao_cada_raca"
   ]
  },
  {
   "cell_type": "code",
   "execution_count": null,
   "metadata": {},
   "outputs": [],
   "source": [
    "satisfacao_cada_raca['Respondentes x Raça'] = raca_abs['Nº de respondentes']"
   ]
  },
  {
   "cell_type": "code",
   "execution_count": null,
   "metadata": {},
   "outputs": [],
   "source": [
    "satisfacao_cada_raca"
   ]
  },
  {
   "cell_type": "code",
   "execution_count": null,
   "metadata": {},
   "outputs": [],
   "source": [
    "valores = dados['VB01002'].unique()\n",
    "valores.sort()\n",
    "valores"
   ]
  },
  {
   "cell_type": "code",
   "execution_count": null,
   "metadata": {},
   "outputs": [],
   "source": [
    "for i in valores:\n",
    "    satisfacao_cada_raca['Porcentagem_raca'] = (satisfacao_cada_raca['Nº de alunos satisfeitos'] / satisfacao_cada_raca['Respondentes x Raça']) * 100\n",
    "    break"
   ]
  },
  {
   "cell_type": "code",
   "execution_count": null,
   "metadata": {},
   "outputs": [],
   "source": [
    "satisfacao_cada_raca"
   ]
  },
  {
   "cell_type": "code",
   "execution_count": null,
   "metadata": {},
   "outputs": [],
   "source": [
    "# gráfico de barras\n",
    "plt.figure(figsize = (15,6));\n",
    "fig = px.bar(data_frame = satisfacao_cada_raca,\n",
    "                x = satisfacao_cada_raca.index,\n",
    "                y = 'Porcentagem_raca',\n",
    "                title = 'Porcentagem, de cada raça, de alunos satisfeitos ou muito satisfeitos com o corpo',\n",
    "                color = satisfacao_cada_raca.index,\n",
    "                color_discrete_sequence=px.colors.qualitative.Dark2)\n",
    "fig.show()"
   ]
  },
  {
   "cell_type": "markdown",
   "metadata": {},
   "source": [
    "O gráfico acima nos mostra a porcentagem de alunos de cada cor/raça que estavam satisfeitos e muito satisfeitos com o corpo.\n",
    "\n",
    "Podemos perceber que não há grande diferença entre porcentagens.\n",
    "\n",
    "A maior diferença entre as porcentagens fica em aproximadamente 5.25%, entre a cor/raça preta (73.80% estavam satisfeitos ou muito satisfeitos) e a cor/raça amarela (67.55% estavam satisfeitos ou muito satisfeitos)."
   ]
  },
  {
   "cell_type": "markdown",
   "metadata": {},
   "source": [
    "## As alunas tendem a se sentir insatisfeitas ou muito insatisfeitas com o próprio corpo mais do que os alunos."
   ]
  },
  {
   "cell_type": "code",
   "execution_count": null,
   "metadata": {},
   "outputs": [],
   "source": [
    "# alunos que estavam insatisfeitos ou muito insatisfeitos\n",
    "insat = dados[(dados['VB11007'] == 4) | (dados['VB11007'] == 5)]"
   ]
  },
  {
   "cell_type": "code",
   "execution_count": null,
   "metadata": {},
   "outputs": [],
   "source": [
    "# quantidade de alunos e alunas insatisfeitos ou muito insatisfeitos\n",
    "num_insat = insat['VB01001'].value_counts().sort_index()"
   ]
  },
  {
   "cell_type": "code",
   "execution_count": null,
   "metadata": {},
   "outputs": [],
   "source": [
    "# quantidade de alunos, de cada sexo, que responderam a pesquisa\n",
    "num_alunos_alunas = dados['VB01001'].value_counts()"
   ]
  },
  {
   "cell_type": "code",
   "execution_count": null,
   "metadata": {},
   "outputs": [],
   "source": [
    "df_alunos_alunas = pd.DataFrame(num_alunos_alunas)\n",
    "df_alunos_alunas.index = ['Masculino', 'Feminino']\n",
    "df_alunos_alunas.columns = ['Nº respondentes']"
   ]
  },
  {
   "cell_type": "code",
   "execution_count": null,
   "metadata": {},
   "outputs": [],
   "source": [
    "df_alunos_alunas['Muito OU insatisfeitos'] = num_insat.values"
   ]
  },
  {
   "cell_type": "code",
   "execution_count": null,
   "metadata": {},
   "outputs": [],
   "source": [
    "df_alunos_alunas"
   ]
  },
  {
   "cell_type": "code",
   "execution_count": null,
   "metadata": {},
   "outputs": [],
   "source": [
    "plt.figure(figsize = (15,6))\n",
    "px.pie(data_frame = df_alunos_alunas,\n",
    "       values = 'Muito OU insatisfeitos',\n",
    "       names = df_alunos_alunas.index,\n",
    "       title = 'Porcentagem, por sexo, dos alunos(as) insatisfeitos(as) ou muito insatisfeitos(as) com o corpo',\n",
    "       color = df_alunos_alunas.index,\n",
    "       color_discrete_sequence=px.colors.qualitative.Pastel)"
   ]
  },
  {
   "cell_type": "markdown",
   "metadata": {},
   "source": [
    "Dos 3040 alunos e alunas que se sentem insatisfeitos ou muito insatisfeitos em relação ao corpo, vemos que as meninas representam 65.6% desse número, contra 34.4% dos meninos. \n",
    "\n",
    "Temos o total de alunos e alunas, que responderam o questionário, praticamente igual, sendo 8287 para alunos e 8269 alunas. Com isso, parece que as alunas tendem a se sentir mais pressionadas em relação ao seu corpo, talvez por pressão midiática, pela sociedade machista ou por outros motivos que podem influenciar nesse sentimento."
   ]
  },
  {
   "cell_type": "markdown",
   "metadata": {},
   "source": [
    "## O fato de o aluno(a) ter ficado \"magoado, incomodado, aborrecido, ofendido ou humilhado\" com frequência quando seus colegas \"esculacharam, zoaram, mangaram, intimidaram ou caçoaram\" pode ter levado-o a ter o IMC abaixo ou acima de um IMC normal ."
   ]
  },
  {
   "cell_type": "markdown",
   "metadata": {},
   "source": [
    "**Pergunta VB07007:**\n",
    "<ins>\"NOS ÚLTIMOS 30 DIAS, com que frequência algum dos seus colegas de escola te esculacharam, zoaram, mangaram, intimidaram ou caçoaram tanto que você ficou magoado, incomodado, aborrecido, ofendido ou humilhado?\"</ins>\n",
    "\n",
    "\n",
    "Vamos analisar, primeiramente, as quantidades e as porcentagens das respostas."
   ]
  },
  {
   "cell_type": "markdown",
   "metadata": {},
   "source": [
    "### Verificando a quantidade de cada resposta, exceto a resposta 99 (\"Não informado\") :"
   ]
  },
  {
   "cell_type": "code",
   "execution_count": null,
   "metadata": {},
   "outputs": [],
   "source": [
    "dados_intimidacao = pd.DataFrame(dados['VB07007'][dados['VB07007'] != 99].value_counts())\n",
    "dados_intimidacao.index = ['Nunca', 'Raramente', 'Às vezes', 'Na maior parte do tempo', 'Sempre']\n",
    "dados_intimidacao.index.name = 'Resposta'\n",
    "dados_intimidacao.columns = ['Quantidade']\n",
    "dados_intimidacao"
   ]
  },
  {
   "cell_type": "code",
   "execution_count": null,
   "metadata": {},
   "outputs": [],
   "source": [
    "fig = px.bar(data_frame = dados_intimidacao, \n",
    "       x = dados_intimidacao.index, \n",
    "       y = dados_intimidacao['Quantidade'],\n",
    "      color = dados_intimidacao.index, \n",
    "      )\n",
    "fig.update_xaxes(title_text='Resposta', title_font = {\"size\": 14}, title_standoff = 30)\n",
    "fig.update_yaxes(title_text='Quantidade', title_font = {\"size\": 14}, title_standoff = 15)\n",
    "fig.update_layout(title_text= 'Número de respostas sobre intimidação dos colegas nos últimos 30 dias',\n",
    "                 title_font = {\"size\": 18})\n",
    "fig.show()"
   ]
  },
  {
   "cell_type": "markdown",
   "metadata": {},
   "source": [
    "O gráfico acima nos mostra que as respostas \"Na maior parte do tempo\" e \"Sempre\" possuem, cada uma, menos de 700 ocorrências, enquanto 9147 alunos declararam que nunca sofreram nenhum tipo de \"intimidação\" de seus colegas nos últimos 30 dias. Veremos agora a porcentagem representada por cada resposta."
   ]
  },
  {
   "cell_type": "markdown",
   "metadata": {},
   "source": [
    "### Verificando a porcentagem, de cada resposta, exceto a resposta 99 (\"Não informado\") :"
   ]
  },
  {
   "cell_type": "code",
   "execution_count": null,
   "metadata": {},
   "outputs": [],
   "source": [
    "fig = px.pie(data_frame = dados_intimidacao,\n",
    "             names = dados_intimidacao.index,\n",
    "             values = 'Quantidade')\n",
    "fig.update_layout(title_text= 'Porcentagem das respostas sobre intimidação dos colegas nos últimos 30 dias',\n",
    "                 title_font = {\"size\": 18})\n",
    "fig.show()"
   ]
  },
  {
   "cell_type": "markdown",
   "metadata": {},
   "source": [
    "### Para a análise da hipótese, vamos assumir a possibilidade de que essa \"perseguição\" ao aluno pode ter se prolongado por mais de 30 dias, para que haja um intervalo maior em uma mudança regular em seu peso e, consequentemente, no seu IMC (entre 18,5 e 24,9)."
   ]
  },
  {
   "cell_type": "code",
   "execution_count": null,
   "metadata": {},
   "outputs": [],
   "source": [
    "intimidacao = dados[dados['VB07007'] != 99].copy()"
   ]
  },
  {
   "cell_type": "code",
   "execution_count": null,
   "metadata": {},
   "outputs": [],
   "source": [
    "# dados dos alunos que responderam \"Na maior parte do tempo\" (resposta 4) e \n",
    "# \"Sempre\" (resposta 5).\n",
    "intimidacao_maior_tempo_sempre = intimidacao.query(\"(VB07007 == 4) | (VB07007 == 5)\")\n",
    "intimidacao_maior_tempo_sempre['IMC'].mean()"
   ]
  },
  {
   "cell_type": "code",
   "execution_count": null,
   "metadata": {},
   "outputs": [],
   "source": [
    "# dados dos alunos que responderam \"As vezes\" (resposta 3).\n",
    "intimidacao_as_vezes = dados.query(\"(VB07007 == 3)\")\n",
    "intimidacao_as_vezes['IMC'].mean()"
   ]
  },
  {
   "cell_type": "code",
   "execution_count": null,
   "metadata": {},
   "outputs": [],
   "source": [
    "# dados dos alunos que responderam \"Nunca\" (resposta 1) e \"Raramente\" (resposta 2).\n",
    "intimidacao_nunca_raramente = dados.query(\"(VB07007 == 1) | (VB07007 == 2)\")\n",
    "intimidacao_nunca_raramente['IMC'].mean()"
   ]
  },
  {
   "cell_type": "markdown",
   "metadata": {},
   "source": [
    "Com as médias calculadas acima não podemos afirmar que sofreram \"intimidação\" com maior frequência tendem a possuir um IMC abaixo ou acima do normal. Agora vamos visualizar a distribuição dos dados para termos maior grau de certeza:"
   ]
  },
  {
   "cell_type": "code",
   "execution_count": null,
   "metadata": {},
   "outputs": [],
   "source": [
    "respostas = {1: 'Nunca', 2: 'Raramente', 3: 'As vezes', 4: 'Na maior parte do tempo', 5: 'Sempre'}\n",
    "intimidacao['VB07007'] = intimidacao['VB07007'].map(respostas)\n",
    "intimidacao.rename(columns = {'VB07007': 'Intimidação nos últimos 30 dias'}, inplace = True)"
   ]
  },
  {
   "cell_type": "code",
   "execution_count": null,
   "metadata": {},
   "outputs": [],
   "source": [
    "fig = px.box(data_frame = intimidacao, x = 'Intimidação nos últimos 30 dias', y = 'IMC', \n",
    "      color = 'Intimidação nos últimos 30 dias',\n",
    "      title = 'Distribuição do IMC dos alunos que sofreram \"intimidação\" as vezes')\n",
    "fig.show()"
   ]
  },
  {
   "cell_type": "markdown",
   "metadata": {},
   "source": [
    "Como podemos perceber na visualização acima, parece que a frequência com que o aluno(a) sofre algum tipo de \"intimidação\" não influencia no seu IMC.\n",
    "Com isso, rejeitamos a nossa hipótese nula."
   ]
  }
 ],
 "metadata": {
  "kernelspec": {
   "display_name": "Python 3",
   "language": "python",
   "name": "python3"
  },
  "language_info": {
   "codemirror_mode": {
    "name": "ipython",
    "version": 3
   },
   "file_extension": ".py",
   "mimetype": "text/x-python",
   "name": "python",
   "nbconvert_exporter": "python",
   "pygments_lexer": "ipython3",
   "version": "3.8.5"
  }
 },
 "nbformat": 4,
 "nbformat_minor": 2
}
